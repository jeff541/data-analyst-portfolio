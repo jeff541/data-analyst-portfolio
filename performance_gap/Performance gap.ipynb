{
 "cells": [
  {
   "cell_type": "markdown",
   "id": "031d8d40-d446-4f67-9fe9-f217ff113d55",
   "metadata": {},
   "source": [
    "# Analyser les écarts de performance entre départements\n",
    "## Problématique métiers\n",
    "\n",
    "### Une entreprise souhaite analyser les écarts de performance entre ses départements en explorant les relations entre variables qualitatives(départements, satisfaction) et quantitatives (scores de performance,heures travaillées).\n",
    "\n",
    "## Objectifs \n",
    "### Valider les différences observées en appliquant des tests statistiques adaptés."
   ]
  },
  {
   "cell_type": "markdown",
   "id": "380442ae",
   "metadata": {},
   "source": [
    "### Importons les bibliothèques"
   ]
  },
  {
   "cell_type": "code",
   "execution_count": null,
   "id": "3627eb8c-9757-4788-bff8-cf3cdfe507bc",
   "metadata": {},
   "outputs": [],
   "source": [
    "import pandas as pd \n",
    "import scipy.stats  as st\n",
    "import seaborn as sns\n",
    "import matplotlib.pyplot as plt"
   ]
  },
  {
   "cell_type": "markdown",
   "id": "6b2693e5-59c0-4f61-924f-7c3961f0b1c3",
   "metadata": {},
   "source": [
    "### Importons les données"
   ]
  },
  {
   "cell_type": "code",
   "execution_count": 4,
   "id": "413f7316-fbc4-4273-a4e1-aa977e4c146f",
   "metadata": {},
   "outputs": [],
   "source": [
    "df = pd.read_csv('Extended_Employee_Performance_and_Productivity_Data.csv')"
   ]
  },
  {
   "cell_type": "code",
   "execution_count": 5,
   "id": "ecdfdb00-4440-47ff-8976-7704a6f71b1b",
   "metadata": {},
   "outputs": [
    {
     "data": {
      "text/html": [
       "<div>\n",
       "<style scoped>\n",
       "    .dataframe tbody tr th:only-of-type {\n",
       "        vertical-align: middle;\n",
       "    }\n",
       "\n",
       "    .dataframe tbody tr th {\n",
       "        vertical-align: top;\n",
       "    }\n",
       "\n",
       "    .dataframe thead th {\n",
       "        text-align: right;\n",
       "    }\n",
       "</style>\n",
       "<table border=\"1\" class=\"dataframe\">\n",
       "  <thead>\n",
       "    <tr style=\"text-align: right;\">\n",
       "      <th></th>\n",
       "      <th>Employee_ID</th>\n",
       "      <th>Department</th>\n",
       "      <th>Gender</th>\n",
       "      <th>Age</th>\n",
       "      <th>Job_Title</th>\n",
       "      <th>Hire_Date</th>\n",
       "      <th>Years_At_Company</th>\n",
       "      <th>Education_Level</th>\n",
       "      <th>Performance_Score</th>\n",
       "      <th>Monthly_Salary</th>\n",
       "      <th>Work_Hours_Per_Week</th>\n",
       "      <th>Projects_Handled</th>\n",
       "      <th>Overtime_Hours</th>\n",
       "      <th>Sick_Days</th>\n",
       "      <th>Remote_Work_Frequency</th>\n",
       "      <th>Team_Size</th>\n",
       "      <th>Training_Hours</th>\n",
       "      <th>Promotions</th>\n",
       "      <th>Employee_Satisfaction_Score</th>\n",
       "      <th>Resigned</th>\n",
       "    </tr>\n",
       "  </thead>\n",
       "  <tbody>\n",
       "    <tr>\n",
       "      <th>0</th>\n",
       "      <td>1</td>\n",
       "      <td>IT</td>\n",
       "      <td>Male</td>\n",
       "      <td>55</td>\n",
       "      <td>Specialist</td>\n",
       "      <td>2022-01-19 08:03:05.556036</td>\n",
       "      <td>2</td>\n",
       "      <td>High School</td>\n",
       "      <td>5</td>\n",
       "      <td>6750.0</td>\n",
       "      <td>33</td>\n",
       "      <td>32</td>\n",
       "      <td>22</td>\n",
       "      <td>2</td>\n",
       "      <td>0</td>\n",
       "      <td>14</td>\n",
       "      <td>66</td>\n",
       "      <td>0</td>\n",
       "      <td>2.63</td>\n",
       "      <td>False</td>\n",
       "    </tr>\n",
       "    <tr>\n",
       "      <th>1</th>\n",
       "      <td>2</td>\n",
       "      <td>Finance</td>\n",
       "      <td>Male</td>\n",
       "      <td>29</td>\n",
       "      <td>Developer</td>\n",
       "      <td>2024-04-18 08:03:05.556036</td>\n",
       "      <td>0</td>\n",
       "      <td>High School</td>\n",
       "      <td>5</td>\n",
       "      <td>7500.0</td>\n",
       "      <td>34</td>\n",
       "      <td>34</td>\n",
       "      <td>13</td>\n",
       "      <td>14</td>\n",
       "      <td>100</td>\n",
       "      <td>12</td>\n",
       "      <td>61</td>\n",
       "      <td>2</td>\n",
       "      <td>1.72</td>\n",
       "      <td>False</td>\n",
       "    </tr>\n",
       "    <tr>\n",
       "      <th>2</th>\n",
       "      <td>3</td>\n",
       "      <td>Finance</td>\n",
       "      <td>Male</td>\n",
       "      <td>55</td>\n",
       "      <td>Specialist</td>\n",
       "      <td>2015-10-26 08:03:05.556036</td>\n",
       "      <td>8</td>\n",
       "      <td>High School</td>\n",
       "      <td>3</td>\n",
       "      <td>5850.0</td>\n",
       "      <td>37</td>\n",
       "      <td>27</td>\n",
       "      <td>6</td>\n",
       "      <td>3</td>\n",
       "      <td>50</td>\n",
       "      <td>10</td>\n",
       "      <td>1</td>\n",
       "      <td>0</td>\n",
       "      <td>3.17</td>\n",
       "      <td>False</td>\n",
       "    </tr>\n",
       "    <tr>\n",
       "      <th>3</th>\n",
       "      <td>4</td>\n",
       "      <td>Customer Support</td>\n",
       "      <td>Female</td>\n",
       "      <td>48</td>\n",
       "      <td>Analyst</td>\n",
       "      <td>2016-10-22 08:03:05.556036</td>\n",
       "      <td>7</td>\n",
       "      <td>Bachelor</td>\n",
       "      <td>2</td>\n",
       "      <td>4800.0</td>\n",
       "      <td>52</td>\n",
       "      <td>10</td>\n",
       "      <td>28</td>\n",
       "      <td>12</td>\n",
       "      <td>100</td>\n",
       "      <td>10</td>\n",
       "      <td>0</td>\n",
       "      <td>1</td>\n",
       "      <td>1.86</td>\n",
       "      <td>False</td>\n",
       "    </tr>\n",
       "    <tr>\n",
       "      <th>4</th>\n",
       "      <td>5</td>\n",
       "      <td>Engineering</td>\n",
       "      <td>Female</td>\n",
       "      <td>36</td>\n",
       "      <td>Analyst</td>\n",
       "      <td>2021-07-23 08:03:05.556036</td>\n",
       "      <td>3</td>\n",
       "      <td>Bachelor</td>\n",
       "      <td>2</td>\n",
       "      <td>4800.0</td>\n",
       "      <td>38</td>\n",
       "      <td>11</td>\n",
       "      <td>29</td>\n",
       "      <td>13</td>\n",
       "      <td>100</td>\n",
       "      <td>15</td>\n",
       "      <td>9</td>\n",
       "      <td>1</td>\n",
       "      <td>1.25</td>\n",
       "      <td>False</td>\n",
       "    </tr>\n",
       "    <tr>\n",
       "      <th>5</th>\n",
       "      <td>6</td>\n",
       "      <td>IT</td>\n",
       "      <td>Male</td>\n",
       "      <td>43</td>\n",
       "      <td>Manager</td>\n",
       "      <td>2016-08-14 08:03:05.556036</td>\n",
       "      <td>8</td>\n",
       "      <td>High School</td>\n",
       "      <td>3</td>\n",
       "      <td>7800.0</td>\n",
       "      <td>46</td>\n",
       "      <td>31</td>\n",
       "      <td>8</td>\n",
       "      <td>0</td>\n",
       "      <td>100</td>\n",
       "      <td>15</td>\n",
       "      <td>95</td>\n",
       "      <td>0</td>\n",
       "      <td>2.77</td>\n",
       "      <td>False</td>\n",
       "    </tr>\n",
       "    <tr>\n",
       "      <th>6</th>\n",
       "      <td>7</td>\n",
       "      <td>IT</td>\n",
       "      <td>Male</td>\n",
       "      <td>37</td>\n",
       "      <td>Technician</td>\n",
       "      <td>2023-08-28 08:03:05.556036</td>\n",
       "      <td>1</td>\n",
       "      <td>Bachelor</td>\n",
       "      <td>5</td>\n",
       "      <td>5250.0</td>\n",
       "      <td>55</td>\n",
       "      <td>20</td>\n",
       "      <td>29</td>\n",
       "      <td>2</td>\n",
       "      <td>0</td>\n",
       "      <td>16</td>\n",
       "      <td>27</td>\n",
       "      <td>0</td>\n",
       "      <td>4.46</td>\n",
       "      <td>False</td>\n",
       "    </tr>\n",
       "    <tr>\n",
       "      <th>7</th>\n",
       "      <td>8</td>\n",
       "      <td>Engineering</td>\n",
       "      <td>Female</td>\n",
       "      <td>55</td>\n",
       "      <td>Engineer</td>\n",
       "      <td>2014-10-27 08:03:05.556036</td>\n",
       "      <td>9</td>\n",
       "      <td>Bachelor</td>\n",
       "      <td>2</td>\n",
       "      <td>7200.0</td>\n",
       "      <td>42</td>\n",
       "      <td>46</td>\n",
       "      <td>7</td>\n",
       "      <td>8</td>\n",
       "      <td>100</td>\n",
       "      <td>7</td>\n",
       "      <td>64</td>\n",
       "      <td>0</td>\n",
       "      <td>2.09</td>\n",
       "      <td>False</td>\n",
       "    </tr>\n",
       "    <tr>\n",
       "      <th>8</th>\n",
       "      <td>9</td>\n",
       "      <td>Marketing</td>\n",
       "      <td>Female</td>\n",
       "      <td>55</td>\n",
       "      <td>Technician</td>\n",
       "      <td>2023-06-29 08:03:05.556036</td>\n",
       "      <td>1</td>\n",
       "      <td>High School</td>\n",
       "      <td>2</td>\n",
       "      <td>4200.0</td>\n",
       "      <td>51</td>\n",
       "      <td>23</td>\n",
       "      <td>21</td>\n",
       "      <td>14</td>\n",
       "      <td>0</td>\n",
       "      <td>1</td>\n",
       "      <td>0</td>\n",
       "      <td>1</td>\n",
       "      <td>1.44</td>\n",
       "      <td>False</td>\n",
       "    </tr>\n",
       "    <tr>\n",
       "      <th>9</th>\n",
       "      <td>10</td>\n",
       "      <td>Engineering</td>\n",
       "      <td>Female</td>\n",
       "      <td>45</td>\n",
       "      <td>Consultant</td>\n",
       "      <td>2016-12-23 08:03:05.556036</td>\n",
       "      <td>7</td>\n",
       "      <td>Bachelor</td>\n",
       "      <td>1</td>\n",
       "      <td>6050.0</td>\n",
       "      <td>41</td>\n",
       "      <td>33</td>\n",
       "      <td>2</td>\n",
       "      <td>6</td>\n",
       "      <td>75</td>\n",
       "      <td>4</td>\n",
       "      <td>53</td>\n",
       "      <td>2</td>\n",
       "      <td>2.93</td>\n",
       "      <td>False</td>\n",
       "    </tr>\n",
       "  </tbody>\n",
       "</table>\n",
       "</div>"
      ],
      "text/plain": [
       "   Employee_ID        Department  Gender  Age   Job_Title  \\\n",
       "0            1                IT    Male   55  Specialist   \n",
       "1            2           Finance    Male   29   Developer   \n",
       "2            3           Finance    Male   55  Specialist   \n",
       "3            4  Customer Support  Female   48     Analyst   \n",
       "4            5       Engineering  Female   36     Analyst   \n",
       "5            6                IT    Male   43     Manager   \n",
       "6            7                IT    Male   37  Technician   \n",
       "7            8       Engineering  Female   55    Engineer   \n",
       "8            9         Marketing  Female   55  Technician   \n",
       "9           10       Engineering  Female   45  Consultant   \n",
       "\n",
       "                    Hire_Date  Years_At_Company Education_Level  \\\n",
       "0  2022-01-19 08:03:05.556036                 2     High School   \n",
       "1  2024-04-18 08:03:05.556036                 0     High School   \n",
       "2  2015-10-26 08:03:05.556036                 8     High School   \n",
       "3  2016-10-22 08:03:05.556036                 7        Bachelor   \n",
       "4  2021-07-23 08:03:05.556036                 3        Bachelor   \n",
       "5  2016-08-14 08:03:05.556036                 8     High School   \n",
       "6  2023-08-28 08:03:05.556036                 1        Bachelor   \n",
       "7  2014-10-27 08:03:05.556036                 9        Bachelor   \n",
       "8  2023-06-29 08:03:05.556036                 1     High School   \n",
       "9  2016-12-23 08:03:05.556036                 7        Bachelor   \n",
       "\n",
       "   Performance_Score  Monthly_Salary  Work_Hours_Per_Week  Projects_Handled  \\\n",
       "0                  5          6750.0                   33                32   \n",
       "1                  5          7500.0                   34                34   \n",
       "2                  3          5850.0                   37                27   \n",
       "3                  2          4800.0                   52                10   \n",
       "4                  2          4800.0                   38                11   \n",
       "5                  3          7800.0                   46                31   \n",
       "6                  5          5250.0                   55                20   \n",
       "7                  2          7200.0                   42                46   \n",
       "8                  2          4200.0                   51                23   \n",
       "9                  1          6050.0                   41                33   \n",
       "\n",
       "   Overtime_Hours  Sick_Days  Remote_Work_Frequency  Team_Size  \\\n",
       "0              22          2                      0         14   \n",
       "1              13         14                    100         12   \n",
       "2               6          3                     50         10   \n",
       "3              28         12                    100         10   \n",
       "4              29         13                    100         15   \n",
       "5               8          0                    100         15   \n",
       "6              29          2                      0         16   \n",
       "7               7          8                    100          7   \n",
       "8              21         14                      0          1   \n",
       "9               2          6                     75          4   \n",
       "\n",
       "   Training_Hours  Promotions  Employee_Satisfaction_Score  Resigned  \n",
       "0              66           0                         2.63     False  \n",
       "1              61           2                         1.72     False  \n",
       "2               1           0                         3.17     False  \n",
       "3               0           1                         1.86     False  \n",
       "4               9           1                         1.25     False  \n",
       "5              95           0                         2.77     False  \n",
       "6              27           0                         4.46     False  \n",
       "7              64           0                         2.09     False  \n",
       "8               0           1                         1.44     False  \n",
       "9              53           2                         2.93     False  "
      ]
     },
     "execution_count": 5,
     "metadata": {},
     "output_type": "execute_result"
    }
   ],
   "source": [
    "### Aperçu\n",
    "df.head(10)"
   ]
  },
  {
   "cell_type": "markdown",
   "id": "d6f41731-b3f2-4620-8a83-013f15a9c4be",
   "metadata": {},
   "source": [
    "### Métadonées"
   ]
  },
  {
   "cell_type": "code",
   "execution_count": 7,
   "id": "615a3a7c-8ba7-4ead-86e9-d0363976c128",
   "metadata": {},
   "outputs": [
    {
     "data": {
      "text/plain": [
       "(100000, 20)"
      ]
     },
     "execution_count": 7,
     "metadata": {},
     "output_type": "execute_result"
    }
   ],
   "source": [
    "df.shape # Nombre de lignes et colonnes"
   ]
  },
  {
   "cell_type": "code",
   "execution_count": 8,
   "id": "196a443c-5443-493d-9c0f-68364e2428dd",
   "metadata": {},
   "outputs": [
    {
     "name": "stdout",
     "output_type": "stream",
     "text": [
      "<class 'pandas.core.frame.DataFrame'>\n",
      "RangeIndex: 100000 entries, 0 to 99999\n",
      "Data columns (total 20 columns):\n",
      " #   Column                       Non-Null Count   Dtype  \n",
      "---  ------                       --------------   -----  \n",
      " 0   Employee_ID                  100000 non-null  int64  \n",
      " 1   Department                   100000 non-null  object \n",
      " 2   Gender                       100000 non-null  object \n",
      " 3   Age                          100000 non-null  int64  \n",
      " 4   Job_Title                    100000 non-null  object \n",
      " 5   Hire_Date                    100000 non-null  object \n",
      " 6   Years_At_Company             100000 non-null  int64  \n",
      " 7   Education_Level              100000 non-null  object \n",
      " 8   Performance_Score            100000 non-null  int64  \n",
      " 9   Monthly_Salary               100000 non-null  float64\n",
      " 10  Work_Hours_Per_Week          100000 non-null  int64  \n",
      " 11  Projects_Handled             100000 non-null  int64  \n",
      " 12  Overtime_Hours               100000 non-null  int64  \n",
      " 13  Sick_Days                    100000 non-null  int64  \n",
      " 14  Remote_Work_Frequency        100000 non-null  int64  \n",
      " 15  Team_Size                    100000 non-null  int64  \n",
      " 16  Training_Hours               100000 non-null  int64  \n",
      " 17  Promotions                   100000 non-null  int64  \n",
      " 18  Employee_Satisfaction_Score  100000 non-null  float64\n",
      " 19  Resigned                     100000 non-null  bool   \n",
      "dtypes: bool(1), float64(2), int64(12), object(5)\n",
      "memory usage: 14.6+ MB\n"
     ]
    }
   ],
   "source": [
    "df.info() # infos générales"
   ]
  },
  {
   "cell_type": "markdown",
   "id": "ed2707af-fe1a-4a3e-8f05-5f2da0df1ea1",
   "metadata": {},
   "source": [
    "### Nétoyage et Transformation des données"
   ]
  },
  {
   "cell_type": "markdown",
   "id": "4679fa08-65b5-4dfd-9fac-52b1b8bfa407",
   "metadata": {},
   "source": [
    "- Suppression des colonnes inutiles"
   ]
  },
  {
   "cell_type": "code",
   "execution_count": 11,
   "id": "5c680f63-d952-4c65-8bfc-9598b9c9c809",
   "metadata": {},
   "outputs": [],
   "source": [
    "\n",
    "df = df.drop([\n",
    "   'Hire_Date','Employee_ID','Remote_Work_Frequency'\n",
    "], axis=1)\n"
   ]
  },
  {
   "cell_type": "code",
   "execution_count": 12,
   "id": "3cb18a75-ba09-40ba-9f10-5c9833264786",
   "metadata": {},
   "outputs": [
    {
     "data": {
      "text/html": [
       "<div>\n",
       "<style scoped>\n",
       "    .dataframe tbody tr th:only-of-type {\n",
       "        vertical-align: middle;\n",
       "    }\n",
       "\n",
       "    .dataframe tbody tr th {\n",
       "        vertical-align: top;\n",
       "    }\n",
       "\n",
       "    .dataframe thead th {\n",
       "        text-align: right;\n",
       "    }\n",
       "</style>\n",
       "<table border=\"1\" class=\"dataframe\">\n",
       "  <thead>\n",
       "    <tr style=\"text-align: right;\">\n",
       "      <th></th>\n",
       "      <th>Department</th>\n",
       "      <th>Gender</th>\n",
       "      <th>Age</th>\n",
       "      <th>Job_Title</th>\n",
       "      <th>Years_At_Company</th>\n",
       "      <th>Education_Level</th>\n",
       "      <th>Performance_Score</th>\n",
       "      <th>Monthly_Salary</th>\n",
       "      <th>Work_Hours_Per_Week</th>\n",
       "      <th>Projects_Handled</th>\n",
       "      <th>Overtime_Hours</th>\n",
       "      <th>Sick_Days</th>\n",
       "      <th>Team_Size</th>\n",
       "      <th>Training_Hours</th>\n",
       "      <th>Promotions</th>\n",
       "      <th>Employee_Satisfaction_Score</th>\n",
       "      <th>Resigned</th>\n",
       "    </tr>\n",
       "  </thead>\n",
       "  <tbody>\n",
       "    <tr>\n",
       "      <th>0</th>\n",
       "      <td>IT</td>\n",
       "      <td>Male</td>\n",
       "      <td>55</td>\n",
       "      <td>Specialist</td>\n",
       "      <td>2</td>\n",
       "      <td>High School</td>\n",
       "      <td>5</td>\n",
       "      <td>6750.0</td>\n",
       "      <td>33</td>\n",
       "      <td>32</td>\n",
       "      <td>22</td>\n",
       "      <td>2</td>\n",
       "      <td>14</td>\n",
       "      <td>66</td>\n",
       "      <td>0</td>\n",
       "      <td>2.63</td>\n",
       "      <td>False</td>\n",
       "    </tr>\n",
       "    <tr>\n",
       "      <th>1</th>\n",
       "      <td>Finance</td>\n",
       "      <td>Male</td>\n",
       "      <td>29</td>\n",
       "      <td>Developer</td>\n",
       "      <td>0</td>\n",
       "      <td>High School</td>\n",
       "      <td>5</td>\n",
       "      <td>7500.0</td>\n",
       "      <td>34</td>\n",
       "      <td>34</td>\n",
       "      <td>13</td>\n",
       "      <td>14</td>\n",
       "      <td>12</td>\n",
       "      <td>61</td>\n",
       "      <td>2</td>\n",
       "      <td>1.72</td>\n",
       "      <td>False</td>\n",
       "    </tr>\n",
       "    <tr>\n",
       "      <th>2</th>\n",
       "      <td>Finance</td>\n",
       "      <td>Male</td>\n",
       "      <td>55</td>\n",
       "      <td>Specialist</td>\n",
       "      <td>8</td>\n",
       "      <td>High School</td>\n",
       "      <td>3</td>\n",
       "      <td>5850.0</td>\n",
       "      <td>37</td>\n",
       "      <td>27</td>\n",
       "      <td>6</td>\n",
       "      <td>3</td>\n",
       "      <td>10</td>\n",
       "      <td>1</td>\n",
       "      <td>0</td>\n",
       "      <td>3.17</td>\n",
       "      <td>False</td>\n",
       "    </tr>\n",
       "    <tr>\n",
       "      <th>3</th>\n",
       "      <td>Customer Support</td>\n",
       "      <td>Female</td>\n",
       "      <td>48</td>\n",
       "      <td>Analyst</td>\n",
       "      <td>7</td>\n",
       "      <td>Bachelor</td>\n",
       "      <td>2</td>\n",
       "      <td>4800.0</td>\n",
       "      <td>52</td>\n",
       "      <td>10</td>\n",
       "      <td>28</td>\n",
       "      <td>12</td>\n",
       "      <td>10</td>\n",
       "      <td>0</td>\n",
       "      <td>1</td>\n",
       "      <td>1.86</td>\n",
       "      <td>False</td>\n",
       "    </tr>\n",
       "    <tr>\n",
       "      <th>4</th>\n",
       "      <td>Engineering</td>\n",
       "      <td>Female</td>\n",
       "      <td>36</td>\n",
       "      <td>Analyst</td>\n",
       "      <td>3</td>\n",
       "      <td>Bachelor</td>\n",
       "      <td>2</td>\n",
       "      <td>4800.0</td>\n",
       "      <td>38</td>\n",
       "      <td>11</td>\n",
       "      <td>29</td>\n",
       "      <td>13</td>\n",
       "      <td>15</td>\n",
       "      <td>9</td>\n",
       "      <td>1</td>\n",
       "      <td>1.25</td>\n",
       "      <td>False</td>\n",
       "    </tr>\n",
       "    <tr>\n",
       "      <th>5</th>\n",
       "      <td>IT</td>\n",
       "      <td>Male</td>\n",
       "      <td>43</td>\n",
       "      <td>Manager</td>\n",
       "      <td>8</td>\n",
       "      <td>High School</td>\n",
       "      <td>3</td>\n",
       "      <td>7800.0</td>\n",
       "      <td>46</td>\n",
       "      <td>31</td>\n",
       "      <td>8</td>\n",
       "      <td>0</td>\n",
       "      <td>15</td>\n",
       "      <td>95</td>\n",
       "      <td>0</td>\n",
       "      <td>2.77</td>\n",
       "      <td>False</td>\n",
       "    </tr>\n",
       "    <tr>\n",
       "      <th>6</th>\n",
       "      <td>IT</td>\n",
       "      <td>Male</td>\n",
       "      <td>37</td>\n",
       "      <td>Technician</td>\n",
       "      <td>1</td>\n",
       "      <td>Bachelor</td>\n",
       "      <td>5</td>\n",
       "      <td>5250.0</td>\n",
       "      <td>55</td>\n",
       "      <td>20</td>\n",
       "      <td>29</td>\n",
       "      <td>2</td>\n",
       "      <td>16</td>\n",
       "      <td>27</td>\n",
       "      <td>0</td>\n",
       "      <td>4.46</td>\n",
       "      <td>False</td>\n",
       "    </tr>\n",
       "    <tr>\n",
       "      <th>7</th>\n",
       "      <td>Engineering</td>\n",
       "      <td>Female</td>\n",
       "      <td>55</td>\n",
       "      <td>Engineer</td>\n",
       "      <td>9</td>\n",
       "      <td>Bachelor</td>\n",
       "      <td>2</td>\n",
       "      <td>7200.0</td>\n",
       "      <td>42</td>\n",
       "      <td>46</td>\n",
       "      <td>7</td>\n",
       "      <td>8</td>\n",
       "      <td>7</td>\n",
       "      <td>64</td>\n",
       "      <td>0</td>\n",
       "      <td>2.09</td>\n",
       "      <td>False</td>\n",
       "    </tr>\n",
       "    <tr>\n",
       "      <th>8</th>\n",
       "      <td>Marketing</td>\n",
       "      <td>Female</td>\n",
       "      <td>55</td>\n",
       "      <td>Technician</td>\n",
       "      <td>1</td>\n",
       "      <td>High School</td>\n",
       "      <td>2</td>\n",
       "      <td>4200.0</td>\n",
       "      <td>51</td>\n",
       "      <td>23</td>\n",
       "      <td>21</td>\n",
       "      <td>14</td>\n",
       "      <td>1</td>\n",
       "      <td>0</td>\n",
       "      <td>1</td>\n",
       "      <td>1.44</td>\n",
       "      <td>False</td>\n",
       "    </tr>\n",
       "    <tr>\n",
       "      <th>9</th>\n",
       "      <td>Engineering</td>\n",
       "      <td>Female</td>\n",
       "      <td>45</td>\n",
       "      <td>Consultant</td>\n",
       "      <td>7</td>\n",
       "      <td>Bachelor</td>\n",
       "      <td>1</td>\n",
       "      <td>6050.0</td>\n",
       "      <td>41</td>\n",
       "      <td>33</td>\n",
       "      <td>2</td>\n",
       "      <td>6</td>\n",
       "      <td>4</td>\n",
       "      <td>53</td>\n",
       "      <td>2</td>\n",
       "      <td>2.93</td>\n",
       "      <td>False</td>\n",
       "    </tr>\n",
       "  </tbody>\n",
       "</table>\n",
       "</div>"
      ],
      "text/plain": [
       "         Department  Gender  Age   Job_Title  Years_At_Company  \\\n",
       "0                IT    Male   55  Specialist                 2   \n",
       "1           Finance    Male   29   Developer                 0   \n",
       "2           Finance    Male   55  Specialist                 8   \n",
       "3  Customer Support  Female   48     Analyst                 7   \n",
       "4       Engineering  Female   36     Analyst                 3   \n",
       "5                IT    Male   43     Manager                 8   \n",
       "6                IT    Male   37  Technician                 1   \n",
       "7       Engineering  Female   55    Engineer                 9   \n",
       "8         Marketing  Female   55  Technician                 1   \n",
       "9       Engineering  Female   45  Consultant                 7   \n",
       "\n",
       "  Education_Level  Performance_Score  Monthly_Salary  Work_Hours_Per_Week  \\\n",
       "0     High School                  5          6750.0                   33   \n",
       "1     High School                  5          7500.0                   34   \n",
       "2     High School                  3          5850.0                   37   \n",
       "3        Bachelor                  2          4800.0                   52   \n",
       "4        Bachelor                  2          4800.0                   38   \n",
       "5     High School                  3          7800.0                   46   \n",
       "6        Bachelor                  5          5250.0                   55   \n",
       "7        Bachelor                  2          7200.0                   42   \n",
       "8     High School                  2          4200.0                   51   \n",
       "9        Bachelor                  1          6050.0                   41   \n",
       "\n",
       "   Projects_Handled  Overtime_Hours  Sick_Days  Team_Size  Training_Hours  \\\n",
       "0                32              22          2         14              66   \n",
       "1                34              13         14         12              61   \n",
       "2                27               6          3         10               1   \n",
       "3                10              28         12         10               0   \n",
       "4                11              29         13         15               9   \n",
       "5                31               8          0         15              95   \n",
       "6                20              29          2         16              27   \n",
       "7                46               7          8          7              64   \n",
       "8                23              21         14          1               0   \n",
       "9                33               2          6          4              53   \n",
       "\n",
       "   Promotions  Employee_Satisfaction_Score  Resigned  \n",
       "0           0                         2.63     False  \n",
       "1           2                         1.72     False  \n",
       "2           0                         3.17     False  \n",
       "3           1                         1.86     False  \n",
       "4           1                         1.25     False  \n",
       "5           0                         2.77     False  \n",
       "6           0                         4.46     False  \n",
       "7           0                         2.09     False  \n",
       "8           1                         1.44     False  \n",
       "9           2                         2.93     False  "
      ]
     },
     "execution_count": 12,
     "metadata": {},
     "output_type": "execute_result"
    }
   ],
   "source": [
    "### Aperçu\n",
    "df.head(10)"
   ]
  },
  {
   "cell_type": "markdown",
   "id": "fa9176ed-2633-46ae-92f7-30594593fa72",
   "metadata": {},
   "source": [
    "- Recherche de valeurs vides"
   ]
  },
  {
   "cell_type": "code",
   "execution_count": 14,
   "id": "8f465d07-313f-49a5-895c-7144fd17d6cd",
   "metadata": {},
   "outputs": [
    {
     "data": {
      "text/plain": [
       "(100000, 17)"
      ]
     },
     "execution_count": 14,
     "metadata": {},
     "output_type": "execute_result"
    }
   ],
   "source": [
    "df.dropna().shape"
   ]
  },
  {
   "cell_type": "markdown",
   "id": "1ae5d436-c589-4e9b-be3f-d7da5f161eca",
   "metadata": {},
   "source": [
    "- Recherche de doublons"
   ]
  },
  {
   "cell_type": "code",
   "execution_count": 16,
   "id": "0a8e0a16-7371-4e04-9611-77f5b9e768ab",
   "metadata": {},
   "outputs": [
    {
     "data": {
      "text/plain": [
       "0        False\n",
       "1        False\n",
       "2        False\n",
       "3        False\n",
       "4        False\n",
       "         ...  \n",
       "99995    False\n",
       "99996    False\n",
       "99997    False\n",
       "99998    False\n",
       "99999    False\n",
       "Length: 100000, dtype: bool"
      ]
     },
     "execution_count": 16,
     "metadata": {},
     "output_type": "execute_result"
    }
   ],
   "source": [
    "df.duplicated()"
   ]
  },
  {
   "cell_type": "code",
   "execution_count": 17,
   "id": "c681a477-f1f8-46fa-bb6b-2151cebb6256",
   "metadata": {},
   "outputs": [
    {
     "data": {
      "text/html": [
       "<div>\n",
       "<style scoped>\n",
       "    .dataframe tbody tr th:only-of-type {\n",
       "        vertical-align: middle;\n",
       "    }\n",
       "\n",
       "    .dataframe tbody tr th {\n",
       "        vertical-align: top;\n",
       "    }\n",
       "\n",
       "    .dataframe thead th {\n",
       "        text-align: right;\n",
       "    }\n",
       "</style>\n",
       "<table border=\"1\" class=\"dataframe\">\n",
       "  <thead>\n",
       "    <tr style=\"text-align: right;\">\n",
       "      <th></th>\n",
       "      <th>Age</th>\n",
       "      <th>Years_At_Company</th>\n",
       "      <th>Performance_Score</th>\n",
       "      <th>Monthly_Salary</th>\n",
       "      <th>Work_Hours_Per_Week</th>\n",
       "      <th>Projects_Handled</th>\n",
       "      <th>Overtime_Hours</th>\n",
       "      <th>Sick_Days</th>\n",
       "      <th>Team_Size</th>\n",
       "      <th>Training_Hours</th>\n",
       "      <th>Promotions</th>\n",
       "      <th>Employee_Satisfaction_Score</th>\n",
       "    </tr>\n",
       "  </thead>\n",
       "  <tbody>\n",
       "    <tr>\n",
       "      <th>count</th>\n",
       "      <td>100000.000000</td>\n",
       "      <td>100000.000000</td>\n",
       "      <td>100000.000000</td>\n",
       "      <td>100000.000000</td>\n",
       "      <td>100000.000000</td>\n",
       "      <td>100000.000000</td>\n",
       "      <td>100000.000000</td>\n",
       "      <td>100000.000000</td>\n",
       "      <td>100000.000000</td>\n",
       "      <td>100000.000000</td>\n",
       "      <td>100000.000000</td>\n",
       "      <td>100000.000000</td>\n",
       "    </tr>\n",
       "    <tr>\n",
       "      <th>mean</th>\n",
       "      <td>41.029410</td>\n",
       "      <td>4.476070</td>\n",
       "      <td>2.995430</td>\n",
       "      <td>6403.211000</td>\n",
       "      <td>44.956950</td>\n",
       "      <td>24.431170</td>\n",
       "      <td>14.514930</td>\n",
       "      <td>7.008550</td>\n",
       "      <td>10.013560</td>\n",
       "      <td>49.506060</td>\n",
       "      <td>0.999720</td>\n",
       "      <td>2.999088</td>\n",
       "    </tr>\n",
       "    <tr>\n",
       "      <th>std</th>\n",
       "      <td>11.244121</td>\n",
       "      <td>2.869336</td>\n",
       "      <td>1.414726</td>\n",
       "      <td>1372.508717</td>\n",
       "      <td>8.942003</td>\n",
       "      <td>14.469584</td>\n",
       "      <td>8.664026</td>\n",
       "      <td>4.331591</td>\n",
       "      <td>5.495405</td>\n",
       "      <td>28.890383</td>\n",
       "      <td>0.815872</td>\n",
       "      <td>1.150719</td>\n",
       "    </tr>\n",
       "    <tr>\n",
       "      <th>min</th>\n",
       "      <td>22.000000</td>\n",
       "      <td>0.000000</td>\n",
       "      <td>1.000000</td>\n",
       "      <td>3850.000000</td>\n",
       "      <td>30.000000</td>\n",
       "      <td>0.000000</td>\n",
       "      <td>0.000000</td>\n",
       "      <td>0.000000</td>\n",
       "      <td>1.000000</td>\n",
       "      <td>0.000000</td>\n",
       "      <td>0.000000</td>\n",
       "      <td>1.000000</td>\n",
       "    </tr>\n",
       "    <tr>\n",
       "      <th>25%</th>\n",
       "      <td>31.000000</td>\n",
       "      <td>2.000000</td>\n",
       "      <td>2.000000</td>\n",
       "      <td>5250.000000</td>\n",
       "      <td>37.000000</td>\n",
       "      <td>12.000000</td>\n",
       "      <td>7.000000</td>\n",
       "      <td>3.000000</td>\n",
       "      <td>5.000000</td>\n",
       "      <td>25.000000</td>\n",
       "      <td>0.000000</td>\n",
       "      <td>2.010000</td>\n",
       "    </tr>\n",
       "    <tr>\n",
       "      <th>50%</th>\n",
       "      <td>41.000000</td>\n",
       "      <td>4.000000</td>\n",
       "      <td>3.000000</td>\n",
       "      <td>6500.000000</td>\n",
       "      <td>45.000000</td>\n",
       "      <td>24.000000</td>\n",
       "      <td>15.000000</td>\n",
       "      <td>7.000000</td>\n",
       "      <td>10.000000</td>\n",
       "      <td>49.000000</td>\n",
       "      <td>1.000000</td>\n",
       "      <td>3.000000</td>\n",
       "    </tr>\n",
       "    <tr>\n",
       "      <th>75%</th>\n",
       "      <td>51.000000</td>\n",
       "      <td>7.000000</td>\n",
       "      <td>4.000000</td>\n",
       "      <td>7500.000000</td>\n",
       "      <td>53.000000</td>\n",
       "      <td>37.000000</td>\n",
       "      <td>22.000000</td>\n",
       "      <td>11.000000</td>\n",
       "      <td>15.000000</td>\n",
       "      <td>75.000000</td>\n",
       "      <td>2.000000</td>\n",
       "      <td>3.990000</td>\n",
       "    </tr>\n",
       "    <tr>\n",
       "      <th>max</th>\n",
       "      <td>60.000000</td>\n",
       "      <td>10.000000</td>\n",
       "      <td>5.000000</td>\n",
       "      <td>9000.000000</td>\n",
       "      <td>60.000000</td>\n",
       "      <td>49.000000</td>\n",
       "      <td>29.000000</td>\n",
       "      <td>14.000000</td>\n",
       "      <td>19.000000</td>\n",
       "      <td>99.000000</td>\n",
       "      <td>2.000000</td>\n",
       "      <td>5.000000</td>\n",
       "    </tr>\n",
       "  </tbody>\n",
       "</table>\n",
       "</div>"
      ],
      "text/plain": [
       "                 Age  Years_At_Company  Performance_Score  Monthly_Salary  \\\n",
       "count  100000.000000     100000.000000      100000.000000   100000.000000   \n",
       "mean       41.029410          4.476070           2.995430     6403.211000   \n",
       "std        11.244121          2.869336           1.414726     1372.508717   \n",
       "min        22.000000          0.000000           1.000000     3850.000000   \n",
       "25%        31.000000          2.000000           2.000000     5250.000000   \n",
       "50%        41.000000          4.000000           3.000000     6500.000000   \n",
       "75%        51.000000          7.000000           4.000000     7500.000000   \n",
       "max        60.000000         10.000000           5.000000     9000.000000   \n",
       "\n",
       "       Work_Hours_Per_Week  Projects_Handled  Overtime_Hours      Sick_Days  \\\n",
       "count        100000.000000     100000.000000   100000.000000  100000.000000   \n",
       "mean             44.956950         24.431170       14.514930       7.008550   \n",
       "std               8.942003         14.469584        8.664026       4.331591   \n",
       "min              30.000000          0.000000        0.000000       0.000000   \n",
       "25%              37.000000         12.000000        7.000000       3.000000   \n",
       "50%              45.000000         24.000000       15.000000       7.000000   \n",
       "75%              53.000000         37.000000       22.000000      11.000000   \n",
       "max              60.000000         49.000000       29.000000      14.000000   \n",
       "\n",
       "           Team_Size  Training_Hours     Promotions  \\\n",
       "count  100000.000000   100000.000000  100000.000000   \n",
       "mean       10.013560       49.506060       0.999720   \n",
       "std         5.495405       28.890383       0.815872   \n",
       "min         1.000000        0.000000       0.000000   \n",
       "25%         5.000000       25.000000       0.000000   \n",
       "50%        10.000000       49.000000       1.000000   \n",
       "75%        15.000000       75.000000       2.000000   \n",
       "max        19.000000       99.000000       2.000000   \n",
       "\n",
       "       Employee_Satisfaction_Score  \n",
       "count                100000.000000  \n",
       "mean                      2.999088  \n",
       "std                       1.150719  \n",
       "min                       1.000000  \n",
       "25%                       2.010000  \n",
       "50%                       3.000000  \n",
       "75%                       3.990000  \n",
       "max                       5.000000  "
      ]
     },
     "execution_count": 17,
     "metadata": {},
     "output_type": "execute_result"
    }
   ],
   "source": [
    "df.describe()"
   ]
  },
  {
   "cell_type": "markdown",
   "id": "56ca53a5-0fdc-4aae-897e-c08c1528da63",
   "metadata": {},
   "source": [
    "- Ajoutons une catégorie pour les satisfactions"
   ]
  },
  {
   "cell_type": "code",
   "execution_count": 19,
   "id": "ab89d733-543d-42a5-b9e8-e77ccca2889f",
   "metadata": {},
   "outputs": [],
   "source": [
    "bins = [0, 2, 3, 4, 5]\n",
    "labels = [\"Unsatisfied\", \"Neutral\", \"Satisfied\", \"Very Satisfied\"] \n",
    "df['Satisfaction_Category'] = pd.cut(df['Employee_Satisfaction_Score'], bins=bins, labels=labels, include_lowest=True) "
   ]
  },
  {
   "cell_type": "markdown",
   "id": "2134ecd0-65be-4fdd-8362-8bc141848186",
   "metadata": {},
   "source": [
    "- Attribuons le bon Type aux colonnes"
   ]
  },
  {
   "cell_type": "code",
   "execution_count": 21,
   "id": "583815e8-d680-456e-8a75-e86a9cd4c403",
   "metadata": {},
   "outputs": [],
   "source": [
    "df['Department'] = df['Department'].astype('string') #chaine de caractère\n",
    "df['Gender'] = df['Gender'].astype('string')\n",
    "df['Education_Level'] = df['Education_Level'].astype('string')\n",
    "df['Job_Title'] = df['Job_Title'].astype('string')"
   ]
  },
  {
   "cell_type": "code",
   "execution_count": 22,
   "id": "c6b3ef1d-3c25-4471-b5e9-175a0e3bbf66",
   "metadata": {},
   "outputs": [
    {
     "name": "stdout",
     "output_type": "stream",
     "text": [
      "<class 'pandas.core.frame.DataFrame'>\n",
      "RangeIndex: 100000 entries, 0 to 99999\n",
      "Data columns (total 18 columns):\n",
      " #   Column                       Non-Null Count   Dtype   \n",
      "---  ------                       --------------   -----   \n",
      " 0   Department                   100000 non-null  string  \n",
      " 1   Gender                       100000 non-null  string  \n",
      " 2   Age                          100000 non-null  int64   \n",
      " 3   Job_Title                    100000 non-null  string  \n",
      " 4   Years_At_Company             100000 non-null  int64   \n",
      " 5   Education_Level              100000 non-null  string  \n",
      " 6   Performance_Score            100000 non-null  int64   \n",
      " 7   Monthly_Salary               100000 non-null  float64 \n",
      " 8   Work_Hours_Per_Week          100000 non-null  int64   \n",
      " 9   Projects_Handled             100000 non-null  int64   \n",
      " 10  Overtime_Hours               100000 non-null  int64   \n",
      " 11  Sick_Days                    100000 non-null  int64   \n",
      " 12  Team_Size                    100000 non-null  int64   \n",
      " 13  Training_Hours               100000 non-null  int64   \n",
      " 14  Promotions                   100000 non-null  int64   \n",
      " 15  Employee_Satisfaction_Score  100000 non-null  float64 \n",
      " 16  Resigned                     100000 non-null  bool    \n",
      " 17  Satisfaction_Category        100000 non-null  category\n",
      "dtypes: bool(1), category(1), float64(2), int64(10), string(4)\n",
      "memory usage: 12.4 MB\n"
     ]
    }
   ],
   "source": [
    "df.info()"
   ]
  },
  {
   "cell_type": "markdown",
   "id": "b25947ac-ef57-4c8f-bff2-35236c10cbc9",
   "metadata": {},
   "source": [
    "## Analyse Quali-Quali"
   ]
  },
  {
   "cell_type": "markdown",
   "id": "95cba7c6-9f4f-4208-a56d-41e82b3da559",
   "metadata": {},
   "source": [
    "### Question 1"
   ]
  },
  {
   "cell_type": "markdown",
   "id": "498f3981-6539-493d-aba9-4b5ebe25bc36",
   "metadata": {},
   "source": [
    " la démission des employés dépend du département dans lequel ils travaillent ?"
   ]
  },
  {
   "cell_type": "markdown",
   "id": "6ebb4195-1556-4c98-a5b2-ebf99e1dcaec",
   "metadata": {},
   "source": [
    "H0: La démission des employés est indépendante du département.   \n",
    "H1: La démission des employés dépend du département."
   ]
  },
  {
   "cell_type": "markdown",
   "id": "cbf68e6a-b155-480e-a461-f2bb04aecbec",
   "metadata": {},
   "source": [
    "### Tableau de contingence"
   ]
  },
  {
   "cell_type": "code",
   "execution_count": 28,
   "id": "1c0142cc-72b9-4190-b8c0-8fa6ee0bab75",
   "metadata": {},
   "outputs": [],
   "source": [
    "contingency_table = pd.crosstab(df[\"Department\"], df[\"Resigned\"])"
   ]
  },
  {
   "cell_type": "code",
   "execution_count": 29,
   "id": "ec85d471-875d-47d8-afbe-28116bb740c1",
   "metadata": {},
   "outputs": [
    {
     "data": {
      "text/html": [
       "<div>\n",
       "<style scoped>\n",
       "    .dataframe tbody tr th:only-of-type {\n",
       "        vertical-align: middle;\n",
       "    }\n",
       "\n",
       "    .dataframe tbody tr th {\n",
       "        vertical-align: top;\n",
       "    }\n",
       "\n",
       "    .dataframe thead th {\n",
       "        text-align: right;\n",
       "    }\n",
       "</style>\n",
       "<table border=\"1\" class=\"dataframe\">\n",
       "  <thead>\n",
       "    <tr style=\"text-align: right;\">\n",
       "      <th>Resigned</th>\n",
       "      <th>False</th>\n",
       "      <th>True</th>\n",
       "    </tr>\n",
       "    <tr>\n",
       "      <th>Department</th>\n",
       "      <th></th>\n",
       "      <th></th>\n",
       "    </tr>\n",
       "  </thead>\n",
       "  <tbody>\n",
       "    <tr>\n",
       "      <th>Customer Support</th>\n",
       "      <td>10018</td>\n",
       "      <td>1098</td>\n",
       "    </tr>\n",
       "    <tr>\n",
       "      <th>Engineering</th>\n",
       "      <td>9899</td>\n",
       "      <td>1057</td>\n",
       "    </tr>\n",
       "    <tr>\n",
       "      <th>Finance</th>\n",
       "      <td>10020</td>\n",
       "      <td>1180</td>\n",
       "    </tr>\n",
       "    <tr>\n",
       "      <th>HR</th>\n",
       "      <td>9835</td>\n",
       "      <td>1125</td>\n",
       "    </tr>\n",
       "    <tr>\n",
       "      <th>IT</th>\n",
       "      <td>10067</td>\n",
       "      <td>1064</td>\n",
       "    </tr>\n",
       "    <tr>\n",
       "      <th>Legal</th>\n",
       "      <td>9982</td>\n",
       "      <td>1136</td>\n",
       "    </tr>\n",
       "    <tr>\n",
       "      <th>Marketing</th>\n",
       "      <td>10091</td>\n",
       "      <td>1125</td>\n",
       "    </tr>\n",
       "    <tr>\n",
       "      <th>Operations</th>\n",
       "      <td>10060</td>\n",
       "      <td>1121</td>\n",
       "    </tr>\n",
       "    <tr>\n",
       "      <th>Sales</th>\n",
       "      <td>10018</td>\n",
       "      <td>1104</td>\n",
       "    </tr>\n",
       "  </tbody>\n",
       "</table>\n",
       "</div>"
      ],
      "text/plain": [
       "Resigned          False  True \n",
       "Department                    \n",
       "Customer Support  10018   1098\n",
       "Engineering        9899   1057\n",
       "Finance           10020   1180\n",
       "HR                 9835   1125\n",
       "IT                10067   1064\n",
       "Legal              9982   1136\n",
       "Marketing         10091   1125\n",
       "Operations        10060   1121\n",
       "Sales             10018   1104"
      ]
     },
     "execution_count": 29,
     "metadata": {},
     "output_type": "execute_result"
    }
   ],
   "source": [
    "contingency_table"
   ]
  },
  {
   "cell_type": "markdown",
   "id": "ef87d55e-51dd-42e5-8707-b792a5588cc2",
   "metadata": {},
   "source": [
    "### Test de khi-2"
   ]
  },
  {
   "cell_type": "markdown",
   "id": "7189ce14-2409-4bcb-819c-f7f721078423",
   "metadata": {},
   "source": [
    "$$ \\chi^2 = \\sum \\frac{(O_{ij} - E_{ij})^2}{E_{ij}} $$"
   ]
  },
  {
   "cell_type": "code",
   "execution_count": 32,
   "id": "6c6a220f-9245-44e4-884d-11feac3895f9",
   "metadata": {},
   "outputs": [
    {
     "name": "stdout",
     "output_type": "stream",
     "text": [
      "Chi2 = 9.18\n",
      "P-value = 0.3274\n"
     ]
    }
   ],
   "source": [
    "chi2, p, dof, expected = st.chi2_contingency(contingency_table)\n",
    "\n",
    "print(f\"Chi2 = {chi2:.2f}\")\n",
    "print(f\"P-value = {p:.4f}\")"
   ]
  },
  {
   "cell_type": "markdown",
   "id": "31b8b856-d66a-48c8-ab64-6e39dc980361",
   "metadata": {},
   "source": [
    "### La P value est > 0,05 l'Hypothèse H0 est acceptée la démission des employés est indépendante du département."
   ]
  },
  {
   "cell_type": "code",
   "execution_count": 34,
   "id": "956fdecc-b5c6-452b-9fda-4b32c5fd5bbd",
   "metadata": {},
   "outputs": [
    {
     "data": {
      "text/plain": [
       "<Figure size 1000x600 with 0 Axes>"
      ]
     },
     "metadata": {},
     "output_type": "display_data"
    },
    {
     "data": {
      "image/png": "[encoded data removed]",
      "text/plain": [
       "<Figure size 640x480 with 1 Axes>"
      ]
     },
     "metadata": {},
     "output_type": "display_data"
    }
   ],
   "source": [
    "plt.figure(figsize=(10, 6))\n",
    "contingency_table.plot(kind='bar', stacked=False, color=['skyblue', 'salmon'])\n",
    "plt.title(\"Nombre de démissions par département\")\n",
    "plt.xlabel(\"Département\")\n",
    "plt.ylabel(\"Nombre d'employés\")\n",
    "plt.legend(title=\"Démission\", labels=['Non', 'Oui'])\n",
    "plt.xticks(rotation=45)\n",
    "plt.grid(axis='y', linestyle='--', alpha=0.8)\n",
    "plt.show()"
   ]
  },
  {
   "cell_type": "markdown",
   "id": "704343a1-e97d-4289-bee5-ca28148e1e9b",
   "metadata": {},
   "source": [
    "Le graphe montre répartition sensiblement égale des démissions dans les départements"
   ]
  },
  {
   "cell_type": "markdown",
   "id": "ec2a6d09-441a-45cb-bde3-098e983a75dc",
   "metadata": {},
   "source": [
    "### Question 2"
   ]
  },
  {
   "cell_type": "markdown",
   "id": "19fc467c-56aa-48df-aa6e-2b1cade497ad",
   "metadata": {},
   "source": [
    "la répartition des genres est équitable entre les départements?"
   ]
  },
  {
   "cell_type": "markdown",
   "id": "9270e9e4-e4f5-4c58-9f5f-2f9fda4dcd53",
   "metadata": {},
   "source": [
    "H0: Le genre est indépendant du département.  \n",
    "H1: Il existe une association entre le genre et le département."
   ]
  },
  {
   "cell_type": "markdown",
   "id": "cd030ddf-d3d9-4b72-900e-680afa996e1e",
   "metadata": {},
   "source": [
    "### Tableau de contingence"
   ]
  },
  {
   "cell_type": "code",
   "execution_count": 40,
   "id": "251e242d-7b59-4313-aaa1-22face09aca3",
   "metadata": {},
   "outputs": [
    {
     "data": {
      "text/html": [
       "<div>\n",
       "<style scoped>\n",
       "    .dataframe tbody tr th:only-of-type {\n",
       "        vertical-align: middle;\n",
       "    }\n",
       "\n",
       "    .dataframe tbody tr th {\n",
       "        vertical-align: top;\n",
       "    }\n",
       "\n",
       "    .dataframe thead th {\n",
       "        text-align: right;\n",
       "    }\n",
       "</style>\n",
       "<table border=\"1\" class=\"dataframe\">\n",
       "  <thead>\n",
       "    <tr style=\"text-align: right;\">\n",
       "      <th>Gender</th>\n",
       "      <th>Female</th>\n",
       "      <th>Male</th>\n",
       "      <th>Other</th>\n",
       "    </tr>\n",
       "    <tr>\n",
       "      <th>Department</th>\n",
       "      <th></th>\n",
       "      <th></th>\n",
       "      <th></th>\n",
       "    </tr>\n",
       "  </thead>\n",
       "  <tbody>\n",
       "    <tr>\n",
       "      <th>Customer Support</th>\n",
       "      <td>5240</td>\n",
       "      <td>5486</td>\n",
       "      <td>390</td>\n",
       "    </tr>\n",
       "    <tr>\n",
       "      <th>Engineering</th>\n",
       "      <td>5229</td>\n",
       "      <td>5293</td>\n",
       "      <td>434</td>\n",
       "    </tr>\n",
       "    <tr>\n",
       "      <th>Finance</th>\n",
       "      <td>5381</td>\n",
       "      <td>5349</td>\n",
       "      <td>470</td>\n",
       "    </tr>\n",
       "    <tr>\n",
       "      <th>HR</th>\n",
       "      <td>5260</td>\n",
       "      <td>5221</td>\n",
       "      <td>479</td>\n",
       "    </tr>\n",
       "    <tr>\n",
       "      <th>IT</th>\n",
       "      <td>5315</td>\n",
       "      <td>5366</td>\n",
       "      <td>450</td>\n",
       "    </tr>\n",
       "    <tr>\n",
       "      <th>Legal</th>\n",
       "      <td>5401</td>\n",
       "      <td>5292</td>\n",
       "      <td>425</td>\n",
       "    </tr>\n",
       "    <tr>\n",
       "      <th>Marketing</th>\n",
       "      <td>5397</td>\n",
       "      <td>5383</td>\n",
       "      <td>436</td>\n",
       "    </tr>\n",
       "    <tr>\n",
       "      <th>Operations</th>\n",
       "      <td>5398</td>\n",
       "      <td>5339</td>\n",
       "      <td>444</td>\n",
       "    </tr>\n",
       "    <tr>\n",
       "      <th>Sales</th>\n",
       "      <td>5380</td>\n",
       "      <td>5302</td>\n",
       "      <td>440</td>\n",
       "    </tr>\n",
       "  </tbody>\n",
       "</table>\n",
       "</div>"
      ],
      "text/plain": [
       "Gender            Female  Male  Other\n",
       "Department                           \n",
       "Customer Support    5240  5486    390\n",
       "Engineering         5229  5293    434\n",
       "Finance             5381  5349    470\n",
       "HR                  5260  5221    479\n",
       "IT                  5315  5366    450\n",
       "Legal               5401  5292    425\n",
       "Marketing           5397  5383    436\n",
       "Operations          5398  5339    444\n",
       "Sales               5380  5302    440"
      ]
     },
     "execution_count": 40,
     "metadata": {},
     "output_type": "execute_result"
    }
   ],
   "source": [
    "contingency_table = pd.crosstab(df[\"Department\"], df[\"Gender\"])\n",
    "contingency_table"
   ]
  },
  {
   "cell_type": "markdown",
   "id": "4e9e0048-51ee-4858-aa7b-c1e801ff1435",
   "metadata": {},
   "source": [
    "### Test khi2"
   ]
  },
  {
   "cell_type": "code",
   "execution_count": 42,
   "id": "cdf8835b-09a9-4923-846d-69f72841a182",
   "metadata": {},
   "outputs": [
    {
     "name": "stdout",
     "output_type": "stream",
     "text": [
      "Chi2 = 21.89\n",
      "P-value = 0.1469\n"
     ]
    }
   ],
   "source": [
    "chi2, p, dof, expected = st.chi2_contingency(contingency_table)\n",
    "\n",
    "print(f\"Chi2 = {chi2:.2f}\")\n",
    "print(f\"P-value = {p:.4f}\")"
   ]
  },
  {
   "cell_type": "markdown",
   "id": "c235d0e8-8338-4224-ba62-88006a853fa7",
   "metadata": {},
   "source": [
    "### La P value est > 0,05 l'Hypothèse H0 est acceptée la répartition des genres est indépendante du département"
   ]
  },
  {
   "cell_type": "code",
   "execution_count": 44,
   "id": "eded5514-4da7-4cf0-9ce8-5e8aa2898a42",
   "metadata": {},
   "outputs": [
    {
     "data": {
      "text/plain": [
       "<Figure size 1000x600 with 0 Axes>"
      ]
     },
     "metadata": {},
     "output_type": "display_data"
    },
    {
     "data": {
      "image/png": "[encoded data removed]",
      "text/plain": [
       "<Figure size 640x480 with 1 Axes>"
      ]
     },
     "metadata": {},
     "output_type": "display_data"
    }
   ],
   "source": [
    "plt.figure(figsize=(10, 6))\n",
    "contingency_table.plot(kind='bar', stacked=False, color=['skyblue', 'salmon','green'])\n",
    "plt.title(\"Répartition des genres par départements\")\n",
    "plt.xlabel(\"Département\")\n",
    "plt.ylabel(\"Nombre d'employés\")\n",
    "plt.legend(title=\"Démission\", labels=['Female', 'Male','Other'])\n",
    "plt.xticks(rotation=45)\n",
    "plt.grid(axis='y', linestyle='--', alpha=0.8)\n",
    "plt.show()"
   ]
  },
  {
   "cell_type": "markdown",
   "id": "5df84ac4-4896-45a1-b332-3c2ce1fe0538",
   "metadata": {},
   "source": [
    "### Question 3"
   ]
  },
  {
   "cell_type": "markdown",
   "id": "dd01386c-d171-4fe5-a096-c45657a8c47d",
   "metadata": {},
   "source": [
    "La satisfaction des employés dépend-elle du département ?"
   ]
  },
  {
   "cell_type": "markdown",
   "id": "ec229eaa-0eb6-4baf-ad9d-030f6b8f15b5",
   "metadata": {},
   "source": [
    "H0: La satisfaction des employés est indépendante du département   \n",
    "H1: Il existe une relation significative entre les employés et le département"
   ]
  },
  {
   "cell_type": "markdown",
   "id": "571a1f14-f411-485a-86ab-e9db362b666e",
   "metadata": {},
   "source": [
    "### Tableau de contingence"
   ]
  },
  {
   "cell_type": "code",
   "execution_count": 49,
   "id": "8bf2f590-8251-4b31-985b-0155c8d264e7",
   "metadata": {},
   "outputs": [
    {
     "data": {
      "text/html": [
       "<div>\n",
       "<style scoped>\n",
       "    .dataframe tbody tr th:only-of-type {\n",
       "        vertical-align: middle;\n",
       "    }\n",
       "\n",
       "    .dataframe tbody tr th {\n",
       "        vertical-align: top;\n",
       "    }\n",
       "\n",
       "    .dataframe thead th {\n",
       "        text-align: right;\n",
       "    }\n",
       "</style>\n",
       "<table border=\"1\" class=\"dataframe\">\n",
       "  <thead>\n",
       "    <tr style=\"text-align: right;\">\n",
       "      <th>Satisfaction_Category</th>\n",
       "      <th>Unsatisfied</th>\n",
       "      <th>Neutral</th>\n",
       "      <th>Satisfied</th>\n",
       "      <th>Very Satisfied</th>\n",
       "    </tr>\n",
       "    <tr>\n",
       "      <th>Department</th>\n",
       "      <th></th>\n",
       "      <th></th>\n",
       "      <th></th>\n",
       "      <th></th>\n",
       "    </tr>\n",
       "  </thead>\n",
       "  <tbody>\n",
       "    <tr>\n",
       "      <th>Customer Support</th>\n",
       "      <td>2885</td>\n",
       "      <td>2819</td>\n",
       "      <td>2732</td>\n",
       "      <td>2680</td>\n",
       "    </tr>\n",
       "    <tr>\n",
       "      <th>Engineering</th>\n",
       "      <td>2680</td>\n",
       "      <td>2844</td>\n",
       "      <td>2731</td>\n",
       "      <td>2701</td>\n",
       "    </tr>\n",
       "    <tr>\n",
       "      <th>Finance</th>\n",
       "      <td>2745</td>\n",
       "      <td>2896</td>\n",
       "      <td>2782</td>\n",
       "      <td>2777</td>\n",
       "    </tr>\n",
       "    <tr>\n",
       "      <th>HR</th>\n",
       "      <td>2741</td>\n",
       "      <td>2711</td>\n",
       "      <td>2868</td>\n",
       "      <td>2640</td>\n",
       "    </tr>\n",
       "    <tr>\n",
       "      <th>IT</th>\n",
       "      <td>2707</td>\n",
       "      <td>2780</td>\n",
       "      <td>2790</td>\n",
       "      <td>2854</td>\n",
       "    </tr>\n",
       "    <tr>\n",
       "      <th>Legal</th>\n",
       "      <td>2829</td>\n",
       "      <td>2784</td>\n",
       "      <td>2794</td>\n",
       "      <td>2711</td>\n",
       "    </tr>\n",
       "    <tr>\n",
       "      <th>Marketing</th>\n",
       "      <td>2804</td>\n",
       "      <td>2862</td>\n",
       "      <td>2787</td>\n",
       "      <td>2763</td>\n",
       "    </tr>\n",
       "    <tr>\n",
       "      <th>Operations</th>\n",
       "      <td>2667</td>\n",
       "      <td>2854</td>\n",
       "      <td>2840</td>\n",
       "      <td>2820</td>\n",
       "    </tr>\n",
       "    <tr>\n",
       "      <th>Sales</th>\n",
       "      <td>2834</td>\n",
       "      <td>2766</td>\n",
       "      <td>2733</td>\n",
       "      <td>2789</td>\n",
       "    </tr>\n",
       "  </tbody>\n",
       "</table>\n",
       "</div>"
      ],
      "text/plain": [
       "Satisfaction_Category  Unsatisfied  Neutral  Satisfied  Very Satisfied\n",
       "Department                                                            \n",
       "Customer Support              2885     2819       2732            2680\n",
       "Engineering                   2680     2844       2731            2701\n",
       "Finance                       2745     2896       2782            2777\n",
       "HR                            2741     2711       2868            2640\n",
       "IT                            2707     2780       2790            2854\n",
       "Legal                         2829     2784       2794            2711\n",
       "Marketing                     2804     2862       2787            2763\n",
       "Operations                    2667     2854       2840            2820\n",
       "Sales                         2834     2766       2733            2789"
      ]
     },
     "execution_count": 49,
     "metadata": {},
     "output_type": "execute_result"
    }
   ],
   "source": [
    "contingency_table = pd.crosstab(df[\"Department\"], df[\"Satisfaction_Category\"])\n",
    "contingency_table\n"
   ]
  },
  {
   "cell_type": "markdown",
   "id": "54708fc4-8951-4570-810a-c856f74a062a",
   "metadata": {},
   "source": [
    "### Test khi2"
   ]
  },
  {
   "cell_type": "code",
   "execution_count": 51,
   "id": "56c33c12-4f1d-4adc-b165-a8313e7ce93a",
   "metadata": {},
   "outputs": [
    {
     "name": "stdout",
     "output_type": "stream",
     "text": [
      "Chi2 = 40.53\n",
      "P-value = 0.0188\n"
     ]
    }
   ],
   "source": [
    "chi2, p, dof, expected = st.chi2_contingency(contingency_table)\n",
    "\n",
    "print(f\"Chi2 = {chi2:.2f}\")\n",
    "print(f\"P-value = {p:.4f}\")"
   ]
  },
  {
   "cell_type": "markdown",
   "id": "556a8167-2e5b-4440-8098-a93396fd081d",
   "metadata": {},
   "source": [
    "### La P value est < 0,05 l'Hypothèse H0 est rejetée. Il existe une relation  entre la satisfation des employés et le département"
   ]
  },
  {
   "cell_type": "markdown",
   "id": "d5d56b6a-9ffa-4c7a-8f92-5ea150c9e76f",
   "metadata": {},
   "source": [
    "### Calculons le V de Cramer pour évaluer la force de cette dépendance"
   ]
  },
  {
   "cell_type": "markdown",
   "id": "544eb79a-e23b-4788-a709-555ad7ab159c",
   "metadata": {},
   "source": [
    "$$ V = \\sqrt{\\frac{\\chi^2}{n \\times \\min(k-1, r-1)}} $$"
   ]
  },
  {
   "cell_type": "code",
   "execution_count": 55,
   "id": "f8e2d3f6-0746-48eb-b420-b26ac09e0651",
   "metadata": {},
   "outputs": [
    {
     "data": {
      "text/plain": [
       "100000"
      ]
     },
     "execution_count": 55,
     "metadata": {},
     "output_type": "execute_result"
    }
   ],
   "source": [
    "n = contingency_table.values.sum()  # Nombre total d'observations\n",
    "n"
   ]
  },
  {
   "cell_type": "code",
   "execution_count": 56,
   "id": "042f1e44-a8a9-49b4-a59e-7c4068a99b9c",
   "metadata": {},
   "outputs": [
    {
     "data": {
      "text/plain": [
       "3"
      ]
     },
     "execution_count": 56,
     "metadata": {},
     "output_type": "execute_result"
    }
   ],
   "source": [
    "m = min(contingency_table.shape) -1 # m = min(k-1, r-1)\n",
    "m"
   ]
  },
  {
   "cell_type": "code",
   "execution_count": 57,
   "id": "4dc1504a-3bd2-46ea-8a17-a7963a80d1cd",
   "metadata": {},
   "outputs": [
    {
     "data": {
      "text/plain": [
       "0.07399132219990667"
      ]
     },
     "execution_count": 57,
     "metadata": {},
     "output_type": "execute_result"
    }
   ],
   "source": [
    "from math import sqrt\n",
    "V = chi2/sqrt(n*m)\n",
    "V\n"
   ]
  },
  {
   "cell_type": "markdown",
   "id": "ac1ae9ac-9c8c-4395-a02c-de324f390ea2",
   "metadata": {},
   "source": [
    "### La relation est faible"
   ]
  },
  {
   "cell_type": "code",
   "execution_count": 59,
   "id": "4bf5ed23-efb2-4bb9-a3ac-37dd222ef0ea",
   "metadata": {},
   "outputs": [
    {
     "data": {
      "image/png": "[encoded data removed]",
      "text/plain": [
       "<Figure size 800x500 with 1 Axes>"
      ]
     },
     "metadata": {},
     "output_type": "display_data"
    }
   ],
   "source": [
    "contingency_table.plot(kind='bar', stacked=True, figsize=(8, 5))\n",
    "\n",
    "plt.title(\"Répartition des satisfactions par département\")\n",
    "plt.xlabel(\"Département\")\n",
    "plt.ylabel(\"Nombre d'employés\")\n",
    "plt.xticks(rotation=45)\n",
    "plt.legend(title=\"Satisfaction\")\n",
    "plt.show()"
   ]
  },
  {
   "cell_type": "markdown",
   "id": "c7b7e088-5529-49b2-a481-18f202a62040",
   "metadata": {},
   "source": [
    "## Analyse Quali-Quanti\n"
   ]
  },
  {
   "cell_type": "markdown",
   "id": "e14dd2db-e00e-45ac-ac34-eabdb75ad12a",
   "metadata": {},
   "source": [
    "### Question 4"
   ]
  },
  {
   "cell_type": "markdown",
   "id": "4d2cb6f3-6976-4293-b0c0-74902cb80cb4",
   "metadata": {},
   "source": [
    "Les scores de performance diffèrent-ils selon\n",
    "le département ?"
   ]
  },
  {
   "cell_type": "markdown",
   "id": "4da905af-5a43-4573-9fda-bd90f9b7d31e",
   "metadata": {},
   "source": [
    "Groupons les scores de performances par départements"
   ]
  },
  {
   "cell_type": "code",
   "execution_count": 64,
   "id": "7a0742b8-4261-4c30-8180-ecf7433aea83",
   "metadata": {},
   "outputs": [],
   "source": [
    "departments = df['Department'].unique()\n",
    "groups = [df[df['Department'] == dept]['Performance_Score'] for dept in departments]"
   ]
  },
  {
   "cell_type": "markdown",
   "id": "f768298c-d8b8-42dd-bcca-ad2c1992a913",
   "metadata": {},
   "source": [
    "### Test de Kolmogorov-Smirnov (KS)"
   ]
  },
  {
   "cell_type": "code",
   "execution_count": 66,
   "id": "ba68fcaf-5616-4ca5-b61d-cc55018fe38d",
   "metadata": {},
   "outputs": [
    {
     "name": "stdout",
     "output_type": "stream",
     "text": [
      "0.0\n"
     ]
    }
   ],
   "source": [
    "\n",
    "D,p = st.kstest(df['Performance_Score'].values,'norm')\n",
    "print(p)"
   ]
  },
  {
   "cell_type": "markdown",
   "id": "56d454a9-af86-4b36-8a69-20a6ab022cf4",
   "metadata": {},
   "source": [
    "### Test de D’Agostino et Pearson"
   ]
  },
  {
   "cell_type": "code",
   "execution_count": 68,
   "id": "42a4757b-7358-4a41-a68e-82f9269767e9",
   "metadata": {},
   "outputs": [
    {
     "name": "stdout",
     "output_type": "stream",
     "text": [
      "0.0\n"
     ]
    }
   ],
   "source": [
    "stat, p = st.normaltest(df['Performance_Score'].values)\n",
    "print(p)"
   ]
  },
  {
   "cell_type": "markdown",
   "id": "aaadd9c8-581f-4223-9666-a596064684d4",
   "metadata": {},
   "source": [
    "p < 0,05 la distribution n'est pas normale tournons nous vers un test non paramétrique.  \n",
    "mais avant, vérifions d'abord  le normalité graphiquement.  \n",
    "le fait que nous ayons 10000 valeurs peut \n",
    "pertuber notre test de normalité"
   ]
  },
  {
   "cell_type": "code",
   "execution_count": 70,
   "id": "65e1152b-4c47-40b4-a703-5b17043256dd",
   "metadata": {},
   "outputs": [
    {
     "name": "stderr",
     "output_type": "stream",
     "text": [
      "C:\\Users\\jeff\\anaconda3\\Lib\\site-packages\\seaborn\\_oldcore.py:1119: FutureWarning: use_inf_as_na option is deprecated and will be removed in a future version. Convert inf values to NaN before operating instead.\n",
      "  with pd.option_context('mode.use_inf_as_na', True):\n"
     ]
    },
    {
     "data": {
      "image/png": "[encoded data removed]",
      "text/plain": [
       "<Figure size 800x500 with 1 Axes>"
      ]
     },
     "metadata": {},
     "output_type": "display_data"
    }
   ],
   "source": [
    "\n",
    "plt.figure(figsize=(8, 5))\n",
    "sns.histplot(df['Performance_Score'], bins=[1,2,3,4,5,6], color='skyblue', edgecolor='black', discrete=True)\n",
    "\n",
    "plt.title(\"Histogramme des Scores de Performance\")\n",
    "plt.xlabel(\"Score de Performance\")\n",
    "plt.ylabel(\"Fréquence\")\n",
    "plt.grid(True)\n",
    "plt.show()"
   ]
  },
  {
   "cell_type": "markdown",
   "id": "c85bc8db-efb3-404b-8afa-b4fea2866660",
   "metadata": {},
   "source": [
    "Notre histogramme ne montre pas une distribution en cloche  \n",
    "ce qui confirme une fois de plus que la distribution n'est  \n",
    "pas normale"
   ]
  },
  {
   "cell_type": "markdown",
   "id": "e8778d73-b868-4444-942e-ca8144a05f5b",
   "metadata": {},
   "source": [
    "### Kruskal-Wallis"
   ]
  },
  {
   "cell_type": "markdown",
   "id": "f9a8df8e-60a8-4743-9644-822b91581442",
   "metadata": {},
   "source": [
    "H0:  la distribution des scores de performance est identique dans tous les départements.   \n",
    "H1:  au moins un département a une distribution différente."
   ]
  },
  {
   "cell_type": "code",
   "execution_count": 74,
   "id": "62589eaa-1d54-4332-919b-1b6763eb5180",
   "metadata": {},
   "outputs": [
    {
     "name": "stdout",
     "output_type": "stream",
     "text": [
      "Statistique H : 7.6579\n",
      "p-value : 0.4676\n"
     ]
    }
   ],
   "source": [
    "stat, p_value = st.kruskal(*groups)\n",
    "\n",
    "print(f\"Statistique H : {stat:.4f}\")\n",
    "print(f\"p-value : {p_value:.4f}\")"
   ]
  },
  {
   "cell_type": "markdown",
   "id": "e7b3fff9-30bb-4e29-97fa-3d08f485d439",
   "metadata": {},
   "source": [
    "###  Avec une p-value de 0.4676 >> 0.05, on ne peux pas rejeter l’hypothèse nulle."
   ]
  },
  {
   "cell_type": "code",
   "execution_count": 76,
   "id": "9c39f5f5-8e26-46a6-9ec6-1ab34ff5f0f0",
   "metadata": {},
   "outputs": [
    {
     "data": {
      "image/png": "[encoded data removed]",
      "text/plain": [
       "<Figure size 1200x600 with 1 Axes>"
      ]
     },
     "metadata": {},
     "output_type": "display_data"
    }
   ],
   "source": [
    "plt.figure(figsize=(12, 6)) \n",
    "boxplot = sns.boxplot(\n",
    "    x='Department', \n",
    "    y='Performance_Score', \n",
    "    data=df,   \n",
    ")\n",
    "\n",
    "# Personnalisation avancée\n",
    "plt.title(\"Distribution des Scores de Performance par Département\", fontsize=14, pad=20)\n",
    "plt.xlabel(\"Département\", fontsize=12)\n",
    "plt.ylabel(\"Score de Performance\", fontsize=12)\n",
    "plt.xticks(rotation=45)  \n",
    "plt.grid(axis='y', linestyle='--', alpha=0.8) \n",
    "\n",
    "plt.tight_layout()\n",
    "plt.show()"
   ]
  },
  {
   "cell_type": "markdown",
   "id": "ac4ea110-f649-4594-9955-424921829240",
   "metadata": {},
   "source": [
    "La distribution est similaire entre les départements, les quartiles sont très proche et pas de valeur aberrante  \n",
    "Pas de différences marquées entre les départements sur les scores de performance.  \n",
    "la variable Department n’a pas d’effet significatif sur Performance_Score ce qui confirme le test de  *Kruskal-Wallis*"
   ]
  },
  {
   "cell_type": "markdown",
   "id": "7261fdb1-083d-4c9f-b75c-2104df6cc662",
   "metadata": {},
   "source": [
    "## Analyse Quanti-Quanti  \n",
    "\n",
    "### Question 4  \n",
    "\n",
    "\n",
    "Les scores de performance diffèrent-ils selon\n",
    "le salaire? \n",
    "\n",
    "H0:  le salaire et le score de performance sont indépendants.   \n",
    "H1:  Il y a une association significative entre le salaire et le score de performance.\n"
   ]
  },
  {
   "cell_type": "markdown",
   "id": "8a1b4abf-0a31-4034-8cea-721e2a9fa932",
   "metadata": {},
   "source": [
    "### Corrélation de Spearman"
   ]
  },
  {
   "cell_type": "code",
   "execution_count": 80,
   "id": "01707fda-5e93-4538-9aa0-fd9183dd2ce1",
   "metadata": {},
   "outputs": [
    {
     "name": "stdout",
     "output_type": "stream",
     "text": [
      "Corrélation de Spearman : 0.478, p-value = 0.0000\n"
     ]
    }
   ],
   "source": [
    "corr, p_value = st.spearmanr(df['Performance_Score'], df['Monthly_Salary'])\n",
    "print(f\"Corrélation de Spearman : {corr:.3f}, p-value = {p_value:.4f}\")"
   ]
  },
  {
   "cell_type": "markdown",
   "id": "c8d86c2e-4fae-4757-ab2f-a593ef5dcf85",
   "metadata": {},
   "source": [
    "p-value = 0.0000 (très inférieure à 0.05) : Nous rejetons l'hypothèse 0.  \n",
    "ρ = 0.478 :  Il y a une corrélation monotone modérée positive entre les salaires et les scores de performance."
   ]
  },
  {
   "cell_type": "code",
   "execution_count": 82,
   "id": "692b2bf4-79ab-42bd-bb48-2aa6bee5dddb",
   "metadata": {},
   "outputs": [
    {
     "name": "stderr",
     "output_type": "stream",
     "text": [
      "C:\\Users\\jeff\\anaconda3\\Lib\\site-packages\\seaborn\\_oldcore.py:1119: FutureWarning: use_inf_as_na option is deprecated and will be removed in a future version. Convert inf values to NaN before operating instead.\n",
      "  with pd.option_context('mode.use_inf_as_na', True):\n",
      "C:\\Users\\jeff\\anaconda3\\Lib\\site-packages\\seaborn\\_oldcore.py:1119: FutureWarning: use_inf_as_na option is deprecated and will be removed in a future version. Convert inf values to NaN before operating instead.\n",
      "  with pd.option_context('mode.use_inf_as_na', True):\n"
     ]
    },
    {
     "data": {
      "image/png": "[encoded data removed]",
      "text/plain": [
       "<Figure size 600x600 with 3 Axes>"
      ]
     },
     "metadata": {},
     "output_type": "display_data"
    }
   ],
   "source": [
    "\n",
    "sns.jointplot(x='Performance_Score', y='Monthly_Salary', data=df, kind='scatter', height=6)\n",
    "plt.show()"
   ]
  },
  {
   "cell_type": "markdown",
   "id": "997fa21b-9e3a-4eb7-93db-33b7b5fdc8fc",
   "metadata": {},
   "source": [
    "### Observations\n",
    "Une corrélation positive modérée est visible (confirmée par ρ=0.478) : les scores élevés tendent à correspondre à des salaires plus élevés.  \n",
    "Quelques employés avec des scores bas (1.0-2.0) mais salaires >5000 → Anomalies à investiguer.  \n",
    "\n",
    "### Recommandations RH  \n",
    "Vérifier si les salaires sont bien alignés avec les politiques de récompense.  \n",
    "Un score de 5.0 devrait avoir un salaire clairement supérieur à un score de 3.0.   Justification (ancienneté ? compétences rares ? Diplome?)  \n"
   ]
  },
  {
   "cell_type": "markdown",
   "id": "c7eebedd-3682-4faa-9acd-ce6371ea90e0",
   "metadata": {},
   "source": [
    "### Question 5\n",
    "\n",
    "Les scores de performance sont-ils f\n",
    "les heures supplémentaires \n",
    "\n",
    "H0: Les scores de performance et les heures supplémentaires  sont indépendants.  \n",
    "H1:  Il y a une association significative entre Les scores de performance et les heures supplémentaires.\n"
   ]
  },
  {
   "cell_type": "code",
   "execution_count": 85,
   "id": "cc3da24d-bcff-46f1-b265-c23ab42d1813",
   "metadata": {},
   "outputs": [
    {
     "name": "stdout",
     "output_type": "stream",
     "text": [
      "Corrélation de Spearman : -0.001, p-value = 0.6777\n"
     ]
    }
   ],
   "source": [
    "corr, p_value = st.spearmanr(df['Performance_Score'], df['Overtime_Hours'])\n",
    "print(f\"Corrélation de Spearman : {corr:.3f}, p-value = {p_value:.4f}\")"
   ]
  },
  {
   "cell_type": "markdown",
   "id": "77fd29d0-954b-462e-8bcf-76cce2e4d949",
   "metadata": {},
   "source": [
    "### Avec une p-value de 0.6777 > 0.05, on ne peux pas rejeter l’hypothèse nulle."
   ]
  },
  {
   "cell_type": "code",
   "execution_count": 87,
   "id": "c021cea4-f71a-4a03-8956-52e4ca48a9b2",
   "metadata": {},
   "outputs": [
    {
     "name": "stderr",
     "output_type": "stream",
     "text": [
      "C:\\Users\\jeff\\anaconda3\\Lib\\site-packages\\seaborn\\_oldcore.py:1119: FutureWarning: use_inf_as_na option is deprecated and will be removed in a future version. Convert inf values to NaN before operating instead.\n",
      "  with pd.option_context('mode.use_inf_as_na', True):\n",
      "C:\\Users\\jeff\\anaconda3\\Lib\\site-packages\\seaborn\\_oldcore.py:1119: FutureWarning: use_inf_as_na option is deprecated and will be removed in a future version. Convert inf values to NaN before operating instead.\n",
      "  with pd.option_context('mode.use_inf_as_na', True):\n"
     ]
    },
    {
     "data": {
      "image/png": "[encoded data removed]",
      "text/plain": [
       "<Figure size 600x600 with 3 Axes>"
      ]
     },
     "metadata": {},
     "output_type": "display_data"
    }
   ],
   "source": [
    "sns.jointplot(x='Performance_Score', y='Overtime_Hours', data=df, kind='scatter', height=6)\n",
    "plt.show()"
   ]
  },
  {
   "cell_type": "markdown",
   "id": "fdd866d6-c2b5-4f85-a726-d7fefac9980a",
   "metadata": {},
   "source": [
    "Ce graphique illustre visuellement une absence de relation claire entre les deux variables    \n",
    "les points sont très alignés verticalement,  suggérant que peu importe la performance,   \n",
    "les heures supplémentaires sont réparties de manière assez homogène."
   ]
  },
  {
   "cell_type": "code",
   "execution_count": null,
   "id": "6afa9680-c929-4b63-9cb7-f99a19651f09",
   "metadata": {},
   "outputs": [],
   "source": []
  }
 ],
 "metadata": {
  "kernelspec": {
   "display_name": "Python [conda env:base] *",
   "language": "python",
   "name": "conda-base-py"
  },
  "language_info": {
   "codemirror_mode": {
    "name": "ipython",
    "version": 3
   },
   "file_extension": ".py",
   "mimetype": "text/x-python",
   "name": "python",
   "nbconvert_exporter": "python",
   "pygments_lexer": "ipython3",
   "version": "3.11.7"
  }
 },
 "nbformat": 4,
 "nbformat_minor": 5
}
