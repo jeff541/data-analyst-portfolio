{
 "cells": [
  {
   "cell_type": "markdown",
   "id": "c5db11ee-2c9c-4a48-a349-50da47f937fa",
   "metadata": {},
   "source": [
    "# SCRAPPING GLOTELHO\n",
    "## OBJECTIF\n",
    "### récupérer le prix du xiaomi redmi note 11e pro chaque jour sur glotelho et me notifier quand\n",
    "### il est <= 90000 FCFA"
   ]
  },
  {
   "cell_type": "code",
   "execution_count": 2,
   "id": "24356d13-6309-48b3-972e-9640c91a4d5b",
   "metadata": {},
   "outputs": [],
   "source": [
    "# Importons les bibliothèques nécéssaires\n",
    "from bs4 import BeautifulSoup\n",
    "import requests\n",
    "import smtplib\n",
    "import json\n",
    "from email.message import EmailMessage\n",
    "import time"
   ]
  },
  {
   "cell_type": "markdown",
   "id": "2176d8f2-8bc9-42b4-94e0-a6a8c23114c6",
   "metadata": {},
   "source": [
    "Stockons l’URL du produit dans la variable url, puis récupèrons le contenu HTML de cette page via une requête HTTP GET, enfin analysons avec BeautifulSoup."
   ]
  },
  {
   "cell_type": "code",
   "execution_count": 4,
   "id": "23adee3e-7055-4291-866f-62762e2e174c",
   "metadata": {},
   "outputs": [],
   "source": [
    "def scrape_data():\n",
    "    url = 'https://glotelho.cm/product/xiaomi-redmi-note-11e-pro-5g-version-chinoise-6-67-128-go-8-go-ram-2-sim-108mp-8mp-2mp-16mp-5000mah-12-mois-de-garantie-46456'\n",
    "    page = requests.get(url)\n",
    "    soup = BeautifulSoup(page.text, 'html')\n",
    "    return soup"
   ]
  },
  {
   "cell_type": "markdown",
   "id": "d61d67b0-eeec-4161-af50-ce3bd8913ced",
   "metadata": {},
   "source": [
    "Après avoir analyser le code nous constatons que le prix et la quantité en stock sont dans des balises 'span',\n",
    "avec les classes nous pouvons  donc récupérer ces information de la manière suivante :"
   ]
  },
  {
   "cell_type": "code",
   "execution_count": 6,
   "id": "0e16a735-e5af-40b4-8f90-ad5b879f6c0e",
   "metadata": {},
   "outputs": [],
   "source": [
    "def filter_data(soup):\n",
    "    stock_span = soup.find_all('span', class_ = 'font-medium text-orange-400 md:text-[.85rem] md:border-2 xs:border-2 xs:text-center border-orange-400 md:rounded md:px-2 xs:rounded xs:px-1 xs:text-[0.8rem]' )[0]\n",
    "    price_span = soup.find_all('span', class_ = 'xl:text-[27px] text-sm xs:text-[1.8rem] lg:text-[28px] lg:leading-normal md:text-[28px] font-bold text-gray-900 font-montserrat font-extrabold' )[0]\n",
    "    return stock_span,price_span"
   ]
  },
  {
   "cell_type": "markdown",
   "id": "357e40ef-4c0f-4fc1-92f9-b418c76c90f4",
   "metadata": {},
   "source": [
    "Une fois les balises récupérés, nous extrayons et netoyons leurs contenus"
   ]
  },
  {
   "cell_type": "code",
   "execution_count": 8,
   "id": "db3140b1-3018-4d18-8028-5920edf13e08",
   "metadata": {},
   "outputs": [],
   "source": [
    "def clean_data(stock_span,price_span):\n",
    "    price = price_span.text.strip()\n",
    "    in_stock = stock_span.text.strip()\n",
    "    price = price.split(' ')[0]\n",
    "    in_stock = in_stock.split('(')[1].split(')')[0]\n",
    "    return price, in_stock"
   ]
  },
  {
   "cell_type": "markdown",
   "id": "f3ecae82-b5f7-47c6-82fd-c9a5b424c59c",
   "metadata": {},
   "source": [
    "Transformons les données"
   ]
  },
  {
   "cell_type": "code",
   "execution_count": 10,
   "id": "ee66dbcb-5a66-4a15-869a-60892a34d438",
   "metadata": {},
   "outputs": [],
   "source": [
    "def transform_data(price, in_stock):\n",
    "    in_stock = int(in_stock) # entier\n",
    "    price = float(price.replace(',','')) # nombre à virgule flottante\n",
    "    return price, in_stock"
   ]
  },
  {
   "cell_type": "markdown",
   "id": "683f800a-ed21-4363-83dc-fa77e355c425",
   "metadata": {},
   "source": [
    "Configurons l'envoie d'email \n",
    "Le fichier config.json doit être déja créer et être dans le même répertoire que notre fichier"
   ]
  },
  {
   "cell_type": "code",
   "execution_count": 12,
   "id": "21907772-4a2f-4777-b9ea-1a4fb158bd06",
   "metadata": {},
   "outputs": [],
   "source": [
    "def send_email(message=\"Hello! Le Xiaomi redmi pro est dispo à un bon prix !\"):\n",
    "    json_file = open(\"config.json\")\n",
    "    gmail_cfg = json.load(json_file)                 \n",
    "    msg = EmailMessage()\n",
    "    msg[\"to\"] = gmail_cfg[\"email\"]\n",
    "    msg[\"from\"] = gmail_cfg[\"email\"]\n",
    "    msg[\"Subject\"] = \"Notification Xiaomi redmi 11 pro\"\n",
    "    msg.set_content(message)\n",
    "    with smtplib.SMTP_SSL(gmail_cfg[\"server\"], gmail_cfg[\"port\"]) as smtp:\n",
    "        smtp.login(gmail_cfg[\"email\"], gmail_cfg[\"pwd\"])\n",
    "        smtp.send_message(msg)\n",
    "        print(\"Email envoyé !\")\n"
   ]
  },
  {
   "cell_type": "markdown",
   "id": "3f04d33c-2540-4f68-a199-cd88dd2f03c3",
   "metadata": {},
   "source": [
    "La methode principale qui orchestre toutes les autres pour mener à bien notre projet\n",
    "Elle est configurer pour me notifier aussi en cas d'erreur"
   ]
  },
  {
   "cell_type": "code",
   "execution_count": 14,
   "id": "18814d85-e06f-46ec-9f0c-ebe173f1388d",
   "metadata": {},
   "outputs": [],
   "source": [
    "def main():\n",
    "    try:\n",
    "        soup = scrape_data()\n",
    "        stock_span, price_span = filter_data(soup)\n",
    "        price, in_stock = clean_data(stock_span, price_span)\n",
    "        price, in_stock = transform_data(price, in_stock)\n",
    "\n",
    "        print(f\"Prix : {price} FCFA | En stock : {in_stock}\")\n",
    "\n",
    "        if price <= 90000 and in_stock > 0:\n",
    "            send_email(\"Hello! Le Xiaomi redmi pro est dispo à un prix inférieur ou égal à 90 000 FCFA 🎉\")\n",
    "\n",
    "    except Exception as e:\n",
    "        error_message = f\"Erreur lors de l'exécution du script : {str(e)}\"\n",
    "        print(error_message)\n",
    "        send_email(error_message)\n"
   ]
  },
  {
   "cell_type": "markdown",
   "id": "01b55457-0d96-416d-9a68-261378da483e",
   "metadata": {},
   "source": [
    "Automatisons en appellant la methode principale une fois par jour"
   ]
  },
  {
   "cell_type": "code",
   "execution_count": null,
   "id": "23928d45-a123-43d2-af98-dbb1de599795",
   "metadata": {},
   "outputs": [
    {
     "name": "stdout",
     "output_type": "stream",
     "text": [
      "Prix : 100000.0 FCFA | En stock : 0\n",
      "Attente de 24h...\n"
     ]
    }
   ],
   "source": [
    "while True:\n",
    "    main()\n",
    "    print(\"Attente de 24h...\")\n",
    "    time.sleep(86400) # 24h"
   ]
  }
 ],
 "metadata": {
  "kernelspec": {
   "display_name": "Python [conda env:base] *",
   "language": "python",
   "name": "conda-base-py"
  },
  "language_info": {
   "codemirror_mode": {
    "name": "ipython",
    "version": 3
   },
   "file_extension": ".py",
   "mimetype": "text/x-python",
   "name": "python",
   "nbconvert_exporter": "python",
   "pygments_lexer": "ipython3",
   "version": "3.11.7"
  }
 },
 "nbformat": 4,
 "nbformat_minor": 5
}
